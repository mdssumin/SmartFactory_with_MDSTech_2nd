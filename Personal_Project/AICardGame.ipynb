{
  "nbformat": 4,
  "nbformat_minor": 0,
  "metadata": {
    "colab": {
      "provenance": [],
      "mount_file_id": "1qFvKAtEiHUVVjKj6iyRbbUcn4szetNq0",
      "authorship_tag": "ABX9TyOTiuyN4nHZNHOJdHhr1VJU",
      "include_colab_link": true
    },
    "kernelspec": {
      "name": "python3",
      "display_name": "Python 3"
    },
    "language_info": {
      "name": "python"
    }
  },
  "cells": [
    {
      "cell_type": "markdown",
      "metadata": {
        "id": "view-in-github",
        "colab_type": "text"
      },
      "source": [
        "<a href=\"https://colab.research.google.com/github/mdssumin/SmartFactory_with_MDSTech_2nd/blob/main/Personal_Project/AICardGame.ipynb\" target=\"_parent\"><img src=\"https://colab.research.google.com/assets/colab-badge.svg\" alt=\"Open In Colab\"/></a>"
      ]
    },
    {
      "cell_type": "code",
      "source": [
        "! pip install roboflow"
      ],
      "metadata": {
        "colab": {
          "base_uri": "https://localhost:8080/"
        },
        "id": "KOucPoboPTHb",
        "outputId": "b9e8cfae-5528-4fce-fcc1-b4751c76e610"
      },
      "execution_count": null,
      "outputs": [
        {
          "output_type": "stream",
          "name": "stdout",
          "text": [
            "Requirement already satisfied: roboflow in /usr/local/lib/python3.10/dist-packages (1.1.2)\n",
            "Requirement already satisfied: certifi==2022.12.7 in /usr/local/lib/python3.10/dist-packages (from roboflow) (2022.12.7)\n",
            "Requirement already satisfied: chardet==4.0.0 in /usr/local/lib/python3.10/dist-packages (from roboflow) (4.0.0)\n",
            "Requirement already satisfied: cycler==0.10.0 in /usr/local/lib/python3.10/dist-packages (from roboflow) (0.10.0)\n",
            "Requirement already satisfied: idna==2.10 in /usr/local/lib/python3.10/dist-packages (from roboflow) (2.10)\n",
            "Requirement already satisfied: kiwisolver>=1.3.1 in /usr/local/lib/python3.10/dist-packages (from roboflow) (1.4.4)\n",
            "Requirement already satisfied: matplotlib in /usr/local/lib/python3.10/dist-packages (from roboflow) (3.7.1)\n",
            "Requirement already satisfied: numpy>=1.18.5 in /usr/local/lib/python3.10/dist-packages (from roboflow) (1.22.4)\n",
            "Requirement already satisfied: opencv-python>=4.1.2 in /usr/local/lib/python3.10/dist-packages (from roboflow) (4.7.0.72)\n",
            "Requirement already satisfied: Pillow>=7.1.2 in /usr/local/lib/python3.10/dist-packages (from roboflow) (8.4.0)\n",
            "Requirement already satisfied: pyparsing==2.4.7 in /usr/local/lib/python3.10/dist-packages (from roboflow) (2.4.7)\n",
            "Requirement already satisfied: python-dateutil in /usr/local/lib/python3.10/dist-packages (from roboflow) (2.8.2)\n",
            "Requirement already satisfied: python-dotenv in /usr/local/lib/python3.10/dist-packages (from roboflow) (1.0.0)\n",
            "Requirement already satisfied: requests in /usr/local/lib/python3.10/dist-packages (from roboflow) (2.27.1)\n",
            "Requirement already satisfied: six in /usr/local/lib/python3.10/dist-packages (from roboflow) (1.16.0)\n",
            "Requirement already satisfied: supervision in /usr/local/lib/python3.10/dist-packages (from roboflow) (0.12.0)\n",
            "Requirement already satisfied: urllib3>=1.26.6 in /usr/local/lib/python3.10/dist-packages (from roboflow) (1.26.16)\n",
            "Requirement already satisfied: wget in /usr/local/lib/python3.10/dist-packages (from roboflow) (3.2)\n",
            "Requirement already satisfied: tqdm>=4.41.0 in /usr/local/lib/python3.10/dist-packages (from roboflow) (4.65.0)\n",
            "Requirement already satisfied: PyYAML>=5.3.1 in /usr/local/lib/python3.10/dist-packages (from roboflow) (6.0.1)\n",
            "Requirement already satisfied: requests-toolbelt in /usr/local/lib/python3.10/dist-packages (from roboflow) (1.0.0)\n",
            "Requirement already satisfied: contourpy>=1.0.1 in /usr/local/lib/python3.10/dist-packages (from matplotlib->roboflow) (1.1.0)\n",
            "Requirement already satisfied: fonttools>=4.22.0 in /usr/local/lib/python3.10/dist-packages (from matplotlib->roboflow) (4.41.0)\n",
            "Requirement already satisfied: packaging>=20.0 in /usr/local/lib/python3.10/dist-packages (from matplotlib->roboflow) (23.1)\n",
            "Requirement already satisfied: charset-normalizer~=2.0.0 in /usr/local/lib/python3.10/dist-packages (from requests->roboflow) (2.0.12)\n",
            "Requirement already satisfied: opencv-python-headless<5.0.0.0,>=4.8.0.74 in /usr/local/lib/python3.10/dist-packages (from supervision->roboflow) (4.8.0.74)\n"
          ]
        }
      ]
    },
    {
      "cell_type": "code",
      "execution_count": null,
      "metadata": {
        "colab": {
          "base_uri": "https://localhost:8080/"
        },
        "id": "JWDrNPF0PH34",
        "outputId": "992f0565-83ea-4a90-a519-3f8e6623f526"
      },
      "outputs": [
        {
          "output_type": "stream",
          "name": "stdout",
          "text": [
            "loading Roboflow workspace...\n",
            "loading Roboflow project...\n",
            "{'predictions': [{'x': 78.0, 'y': 55.0, 'width': 22.0, 'height': 24.0, 'confidence': 0.8207117319107056, 'class': '3', 'image_path': 'your_image.jpg', 'prediction_type': 'ObjectDetectionModel'}, {'x': 111.5, 'y': 50.5, 'width': 23.0, 'height': 25.0, 'confidence': 0.8162988424301147, 'class': '2', 'image_path': 'your_image.jpg', 'prediction_type': 'ObjectDetectionModel'}, {'x': 178.0, 'y': 56.5, 'width': 24.0, 'height': 27.0, 'confidence': 0.8101644515991211, 'class': '3', 'image_path': 'your_image.jpg', 'prediction_type': 'ObjectDetectionModel'}, {'x': 148.5, 'y': 47.5, 'width': 25.0, 'height': 25.0, 'confidence': 0.7938163876533508, 'class': '2', 'image_path': 'your_image.jpg', 'prediction_type': 'ObjectDetectionModel'}, {'x': 47.0, 'y': 64.5, 'width': 18.0, 'height': 19.0, 'confidence': 0.7334153652191162, 'class': '13', 'image_path': 'your_image.jpg', 'prediction_type': 'ObjectDetectionModel'}, {'x': 19.0, 'y': 82.0, 'width': 18.0, 'height': 20.0, 'confidence': 0.6460130214691162, 'class': '13', 'image_path': 'your_image.jpg', 'prediction_type': 'ObjectDetectionModel'}, {'x': 7.0, 'y': 113.0, 'width': 14.0, 'height': 26.0, 'confidence': 0.590709924697876, 'class': '14', 'image_path': 'your_image.jpg', 'prediction_type': 'ObjectDetectionModel'}], 'image': {'width': '225', 'height': '225'}}\n"
          ]
        }
      ],
      "source": [
        "from roboflow import Roboflow\n",
        "rf = Roboflow(api_key=\"ZW0ND97CUN3LHmS7i7pw\")\n",
        "project = rf.workspace().project(\"uno-cards\")\n",
        "model = project.version(3).model\n",
        "\n",
        "# infer on a local image\n",
        "results = model.predict(\"your_image.jpg\", confidence=40, overlap=30).json()\n",
        "# visualize your prediction\n",
        "model.predict(\"your_image.jpg\", confidence=40, overlap=30).save(\"prediction.jpg\")\n",
        "\n",
        "print(results)"
      ]
    },
    {
      "cell_type": "code",
      "source": [
        "import os\n",
        "from PIL import Image\n",
        "\n",
        "# Set the directory where your images are located\n",
        "folder_path = '/content/drive/MyDrive/pytorch_dlbro/data/uno_hands'  # Change this to the path of your folder if it's different\n",
        "\n",
        "# Get a list of image files in the folder\n",
        "image_files = [f for f in os.listdir(folder_path) if os.path.isfile(os.path.join(folder_path, f))]\n",
        "\n",
        "# Sort the image files to process them sequentially (optional)\n",
        "image_files.sort()\n"
      ],
      "metadata": {
        "id": "mH1gMjoEi8Qi"
      },
      "execution_count": null,
      "outputs": []
    },
    {
      "cell_type": "code",
      "source": [
        "#uno_hands 파일에 존재하는 모든 이미지를 각각 추론해서 결과값을 추출\n",
        "import random\n",
        "\n",
        "def sum_of_nums(image_file_path):\n",
        "  sum_player = 0\n",
        "  results = model.predict(image_file_path, confidence=40, overlap=30).json()\n",
        "  num_of_cards = len(results[\"predictions\"])  # 해당 이미지에서 card의 개수\n",
        "  for index in range(num_of_cards):\n",
        "    sum_player += int(results['predictions'][index][\"class\"])\n",
        "  return sum_player, num_of_hands\n",
        "\n",
        "\n",
        "def sum_of_computer(num_of_player_card):\n",
        "  sum_computer = 0\n",
        "  for num_of_nth_card in range(num_of_player_card):\n",
        "    sum_computer += random.randint(0,14)  # 카드의 숫자는 0 ~14까지로 이루어져 있다. 그 중의 숫자 하나를 랜덤으로 선택\n",
        "  return sum_computer\n",
        "\n",
        "\n",
        "max_value = 0 #여러 개의 핸드중에서 숫자의 합이 큰 핸드의 값\n",
        "for num_round, image_file in enumerate(image_files):\n",
        "  image_path = os.path.join(folder_path, image_file)\n",
        "  sum_of_player_hands, num_of_player_hands = sum_of_nums(image_path)\n",
        "  sum_of_computer_hands = sum_of_computer(num_of_player_hands)\n",
        "  if sum_of_player_hands < sum_of_computer_hands:\n",
        "    winner = \"Player\"\n",
        "    sum_of_winner_hand = sum_of_player_hands\n",
        "  else:\n",
        "    winner = \"Computer\"\n",
        "    sum_of_winner_hand = sum_of_player_hands\n",
        "  print(f\"The winner is {winner}! And, the sum of the {winner}'s cards is {sum_of_winner_hand}\")"
      ],
      "metadata": {
        "colab": {
          "base_uri": "https://localhost:8080/"
        },
        "id": "iBAKdwatlTw9",
        "outputId": "397c5005-1f78-4802-e17e-11bcfc3e530e"
      },
      "execution_count": null,
      "outputs": [
        {
          "output_type": "stream",
          "name": "stdout",
          "text": [
            "The winner is Player! And, the sum of the Player's cards is 34\n",
            "The winner is Player! And, the sum of the Player's cards is 14\n",
            "The winner is Computer! And, the sum of the Computer's cards is 71\n",
            "The winner is Computer! And, the sum of the Computer's cards is 57\n",
            "The winner is Computer! And, the sum of the Computer's cards is 61\n",
            "The winner is Player! And, the sum of the Player's cards is 37\n"
          ]
        }
      ]
    }
  ]
}